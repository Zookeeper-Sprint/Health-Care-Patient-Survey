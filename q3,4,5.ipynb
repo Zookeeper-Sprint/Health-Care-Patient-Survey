{
 "cells": [
  {
   "cell_type": "code",
   "execution_count": 9,
   "id": "76521c88-adba-46c1-aeef-2dacb7ef6895",
   "metadata": {},
   "outputs": [
    {
     "data": {
      "text/html": [
       "\n",
       "            <div>\n",
       "                <p><b>SparkSession - in-memory</b></p>\n",
       "                \n",
       "        <div>\n",
       "            <p><b>SparkContext</b></p>\n",
       "\n",
       "            <p><a href=\"http://10.217.210.115:4040\">Spark UI</a></p>\n",
       "\n",
       "            <dl>\n",
       "              <dt>Version</dt>\n",
       "                <dd><code>v3.5.5</code></dd>\n",
       "              <dt>Master</dt>\n",
       "                <dd><code>local[*]</code></dd>\n",
       "              <dt>AppName</dt>\n",
       "                <dd><code>MySparkApp</code></dd>\n",
       "            </dl>\n",
       "        </div>\n",
       "        \n",
       "            </div>\n",
       "        "
      ],
      "text/plain": [
       "<pyspark.sql.session.SparkSession at 0x1a908135850>"
      ]
     },
     "execution_count": 9,
     "metadata": {},
     "output_type": "execute_result"
    }
   ],
   "source": [
    "import findspark\n",
    "findspark.init()\n",
    "from pyspark.sql import SparkSession\n",
    "spark = SparkSession.builder \\\n",
    "    .appName(\"MySparkApp\") \\\n",
    "    .getOrCreate()\n",
    "spark"
   ]
  },
  {
   "cell_type": "code",
   "execution_count": 10,
   "id": "c17a728b-a42d-4518-9dc7-9e9afba5879d",
   "metadata": {},
   "outputs": [],
   "source": [
    "from pyspark import SparkContext\n",
    " \n",
    "sc = SparkContext.getOrCreate()"
   ]
  },
  {
   "cell_type": "code",
   "execution_count": 11,
   "id": "774dd91c-f21b-4079-aa30-b00f5f42bdff",
   "metadata": {},
   "outputs": [],
   "source": [
    "df = spark.read.option(\"header\", \"true\").option(\"inferSchema\", \"true\").csv(\"C:/Users/prepradi/Downloads/Health Care_Patient_survey_source.csv\")"
   ]
  },
  {
   "cell_type": "code",
   "execution_count": 12,
   "id": "1ef495cd-8df3-4310-8017-fcc81eb1fb7b",
   "metadata": {},
   "outputs": [
    {
     "name": "stdout",
     "output_type": "stream",
     "text": [
      "root\n",
      " |-- Provider ID: double (nullable = true)\n",
      " |-- Hospital Name: string (nullable = true)\n",
      " |-- Address: string (nullable = true)\n",
      " |-- City: string (nullable = true)\n",
      " |-- State: string (nullable = true)\n",
      " |-- ZIP Code: integer (nullable = true)\n",
      " |-- County Name: string (nullable = true)\n",
      " |-- Phone Number: long (nullable = true)\n",
      " |-- Measure ID: string (nullable = true)\n",
      " |-- Question: string (nullable = true)\n",
      " |-- Answer Description: string (nullable = true)\n",
      " |-- Patient Survey Star Rating: string (nullable = true)\n",
      " |-- Patient Survey Star Rating Footnote: string (nullable = true)\n",
      " |-- Answer Percent: string (nullable = true)\n",
      " |-- Answer Percent Footnote: string (nullable = true)\n",
      " |-- Linear Mean Value: string (nullable = true)\n",
      " |-- Number of Completed Surveys: string (nullable = true)\n",
      " |-- Number of Completed Surveys Footnote: string (nullable = true)\n",
      " |-- Survey Response Rate Percent: string (nullable = true)\n",
      " |-- Survey Response Rate Percent Footnote: string (nullable = true)\n",
      " |-- Measure Start Date: string (nullable = true)\n",
      " |-- Measure End Date: string (nullable = true)\n",
      " |-- Location: string (nullable = true)\n",
      "\n",
      "+-----------+--------------------+--------------------+------+-----+--------+-----------+------------+--------------------+--------------------+--------------------+--------------------------+-----------------------------------+--------------+-----------------------+-----------------+---------------------------+------------------------------------+----------------------------+-------------------------------------+------------------+----------------+--------------------+\n",
      "|Provider ID|       Hospital Name|             Address|  City|State|ZIP Code|County Name|Phone Number|          Measure ID|            Question|  Answer Description|Patient Survey Star Rating|Patient Survey Star Rating Footnote|Answer Percent|Answer Percent Footnote|Linear Mean Value|Number of Completed Surveys|Number of Completed Surveys Footnote|Survey Response Rate Percent|Survey Response Rate Percent Footnote|Measure Start Date|Measure End Date|            Location|\n",
      "+-----------+--------------------+--------------------+------+-----+--------+-----------+------------+--------------------+--------------------+--------------------+--------------------------+-----------------------------------+--------------+-----------------------+-----------------+---------------------------+------------------------------------+----------------------------+-------------------------------------+------------------+----------------+--------------------+\n",
      "|    10001.0|SOUTHEAST ALABAMA...|1108 ROSS CLARK C...|DOTHAN|   AL|   36301|    HOUSTON|  3347938701|     H_CLEAN_HSP_A_P|\"Patients who rep...|\"Room was \"\"alway...|            Not Applicable|                               NULL|            63|                   NULL|   Not Applicable|                        506|                                NULL|                          21|                                 NULL|        07-01-2017|      06/30/2018|1108 ROSS CLARK C...|\n",
      "|    10001.0|SOUTHEAST ALABAMA...|1108 ROSS CLARK C...|DOTHAN|   AL|   36301|    HOUSTON|  3347938701|    H_CLEAN_HSP_SN_P|\"Patients who rep...|\"Room was \"\"somet...|            Not Applicable|                               NULL|            13|                   NULL|   Not Applicable|                        506|                                NULL|                          21|                                 NULL|        07-01-2017|      06/30/2018|1108 ROSS CLARK C...|\n",
      "|    10001.0|SOUTHEAST ALABAMA...|1108 ROSS CLARK C...|DOTHAN|   AL|   36301|    HOUSTON|  3347938701|     H_CLEAN_HSP_U_P|\"Patients who rep...|\"Room was \"\"usual...|            Not Applicable|                               NULL|            24|                   NULL|   Not Applicable|                        506|                                NULL|                          21|                                 NULL|        07-01-2017|      06/30/2018|1108 ROSS CLARK C...|\n",
      "|    10001.0|SOUTHEAST ALABAMA...|1108 ROSS CLARK C...|DOTHAN|   AL|   36301|    HOUSTON|  3347938701|H_CLEAN_LINEAR_SCORE|Cleanliness - lin...|Cleanliness - lin...|            Not Applicable|                               NULL|Not Applicable|                   NULL|               83|                        506|                                NULL|                          21|                                 NULL|        07-01-2017|      06/30/2018|1108 ROSS CLARK C...|\n",
      "|    10001.0|SOUTHEAST ALABAMA...|1108 ROSS CLARK C...|DOTHAN|   AL|   36301|    HOUSTON|  3347938701| H_CLEAN_STAR_RATING|Cleanliness - sta...|Cleanliness - sta...|                         2|                               NULL|Not Applicable|                   NULL|   Not Applicable|                        506|                                NULL|                          21|                                 NULL|        07-01-2017|      06/30/2018|1108 ROSS CLARK C...|\n",
      "+-----------+--------------------+--------------------+------+-----+--------+-----------+------------+--------------------+--------------------+--------------------+--------------------------+-----------------------------------+--------------+-----------------------+-----------------+---------------------------+------------------------------------+----------------------------+-------------------------------------+------------------+----------------+--------------------+\n",
      "only showing top 5 rows\n",
      "\n"
     ]
    }
   ],
   "source": [
    "\n",
    "df.printSchema()\n",
    "df.show(5)\n"
   ]
  },
  {
   "cell_type": "code",
   "execution_count": 15,
   "id": "d3e73302-cee3-4cc6-a915-b4c52dcf0818",
   "metadata": {},
   "outputs": [
    {
     "name": "stdout",
     "output_type": "stream",
     "text": [
      "+-----+----------------------------+\n",
      "|State|Average_Survey_Response_Rate|\n",
      "+-----+----------------------------+\n",
      "|   NE|           37.70422535211268|\n",
      "|   WI|          35.235772357723576|\n",
      "|   MN|           34.26126126126126|\n",
      "+-----+----------------------------+\n",
      "only showing top 3 rows\n",
      "\n"
     ]
    }
   ],
   "source": [
    "#3.\tTop 3 Countries which has the highest survey rate\n",
    "from pyspark.sql import SparkSession\n",
    "from pyspark.sql.functions import col, avg\n",
    "\n",
    "\n",
    "spark = SparkSession.builder \\\n",
    "    .appName(\"TopSurveyStates\") \\\n",
    "    .getOrCreate()\n",
    "\n",
    "\n",
    "file_path = \"Health Care_Patient_survey_source 3.csv\"\n",
    "df = spark.read.option(\"header\", \"true\").option(\"inferSchema\", \"true\").csv(\"C:/Users/prepradi/Downloads/Health Care_Patient_survey_source.csv\")\n",
    "\n",
    "\n",
    "df = df.select([col(c.strip()).alias(c.strip()) for c in df.columns])\n",
    "\n",
    "\n",
    "df = df.withColumn(\"Survey Response Rate Percent\", col(\"Survey Response Rate Percent\").cast(\"double\"))\n",
    "\n",
    "\n",
    "avg_response = df.groupBy(\"State\") \\\n",
    "    .agg(avg(\"Survey Response Rate Percent\").alias(\"Average_Survey_Response_Rate\")) \\\n",
    "    .orderBy(col(\"Average_Survey_Response_Rate\").desc())\n",
    "\n",
    "\n",
    "avg_response.show(3)\n"
   ]
  },
  {
   "cell_type": "code",
   "execution_count": 16,
   "id": "4606e2cf-ae0c-45fc-bbcb-0c9344463559",
   "metadata": {},
   "outputs": [
    {
     "name": "stdout",
     "output_type": "stream",
     "text": [
      "+----------------+-----------+--------------------------------+----------------------+------+-----+--------+-----------+------------+---------------------+------------------------------------------------------------------------------------------+-----------------------------------------------------+--------------------------+-----------------------------------+--------------+-----------------------+-----------------+---------------------------+------------------------------------+----------------------------+-------------------------------------+------------------+---------------------------------------------------------------+------+\n",
      "|Measure End Date|Provider ID|Hospital Name                   |Address               |City  |State|ZIP Code|County Name|Phone Number|Measure ID           |Question                                                                                  |Answer Description                                   |Patient Survey Star Rating|Patient Survey Star Rating Footnote|Answer Percent|Answer Percent Footnote|Linear Mean Value|Number of Completed Surveys|Number of Completed Surveys Footnote|Survey Response Rate Percent|Survey Response Rate Percent Footnote|Measure Start Date|Location                                                       |count |\n",
      "+----------------+-----------+--------------------------------+----------------------+------+-----+--------+-----------+------------+---------------------+------------------------------------------------------------------------------------------+-----------------------------------------------------+--------------------------+-----------------------------------+--------------+-----------------------+-----------------+---------------------------+------------------------------------+----------------------------+-------------------------------------+------------------+---------------------------------------------------------------+------+\n",
      "|06/30/2018      |10001.0    |SOUTHEAST ALABAMA MEDICAL CENTER|1108 ROSS CLARK CIRCLE|DOTHAN|AL   |36301   |HOUSTON    |3347938701  |H_CLEAN_HSP_A_P      |\"Patients who reported that their room and bathroom were \"\"Always\"\" clean\"                |\"Room was \"\"always\"\" clean\"                          |Not Applicable            |NULL                               |63            |NULL                   |Not Applicable   |506                        |NULL                                |21                          |NULL                                 |07-01-2017        |1108 ROSS CLARK CIRCLE DOTHAN, AL 36301 (31.214058, -85.361725)|230723|\n",
      "|06/30/2018      |10001.0    |SOUTHEAST ALABAMA MEDICAL CENTER|1108 ROSS CLARK CIRCLE|DOTHAN|AL   |36301   |HOUSTON    |3347938701  |H_CLEAN_HSP_SN_P     |\"Patients who reported that their room and bathroom were \"\"Sometimes\"\" or \"\"Never\"\" clean\"|\"Room was \"\"sometimes\"\" or \"\"never\"\" clean\"          |Not Applicable            |NULL                               |13            |NULL                   |Not Applicable   |506                        |NULL                                |21                          |NULL                                 |07-01-2017        |1108 ROSS CLARK CIRCLE DOTHAN, AL 36301 (31.214058, -85.361725)|230723|\n",
      "|06/30/2018      |10001.0    |SOUTHEAST ALABAMA MEDICAL CENTER|1108 ROSS CLARK CIRCLE|DOTHAN|AL   |36301   |HOUSTON    |3347938701  |H_CLEAN_HSP_U_P      |\"Patients who reported that their room and bathroom were \"\"Usually\"\" clean\"               |\"Room was \"\"usually\"\" clean\"                         |Not Applicable            |NULL                               |24            |NULL                   |Not Applicable   |506                        |NULL                                |21                          |NULL                                 |07-01-2017        |1108 ROSS CLARK CIRCLE DOTHAN, AL 36301 (31.214058, -85.361725)|230723|\n",
      "|06/30/2018      |10001.0    |SOUTHEAST ALABAMA MEDICAL CENTER|1108 ROSS CLARK CIRCLE|DOTHAN|AL   |36301   |HOUSTON    |3347938701  |H_CLEAN_LINEAR_SCORE |Cleanliness - linear mean score                                                           |Cleanliness - linear mean score                      |Not Applicable            |NULL                               |Not Applicable|NULL                   |83               |506                        |NULL                                |21                          |NULL                                 |07-01-2017        |1108 ROSS CLARK CIRCLE DOTHAN, AL 36301 (31.214058, -85.361725)|230723|\n",
      "|06/30/2018      |10001.0    |SOUTHEAST ALABAMA MEDICAL CENTER|1108 ROSS CLARK CIRCLE|DOTHAN|AL   |36301   |HOUSTON    |3347938701  |H_CLEAN_STAR_RATING  |Cleanliness - star rating                                                                 |Cleanliness - star rating                            |2                         |NULL                               |Not Applicable|NULL                   |Not Applicable   |506                        |NULL                                |21                          |NULL                                 |07-01-2017        |1108 ROSS CLARK CIRCLE DOTHAN, AL 36301 (31.214058, -85.361725)|230723|\n",
      "|06/30/2018      |10001.0    |SOUTHEAST ALABAMA MEDICAL CENTER|1108 ROSS CLARK CIRCLE|DOTHAN|AL   |36301   |HOUSTON    |3347938701  |H_COMP_1_A_P         |\"Patients who reported that their nurses \"\"Always\"\" communicated well\"                    |\"Nurses \"\"always\"\" communicated well\"                |Not Applicable            |NULL                               |70            |NULL                   |Not Applicable   |506                        |NULL                                |21                          |NULL                                 |07-01-2017        |1108 ROSS CLARK CIRCLE DOTHAN, AL 36301 (31.214058, -85.361725)|230723|\n",
      "|06/30/2018      |10001.0    |SOUTHEAST ALABAMA MEDICAL CENTER|1108 ROSS CLARK CIRCLE|DOTHAN|AL   |36301   |HOUSTON    |3347938701  |H_COMP_1_LINEAR_SCORE|Nurse communication - linear mean score                                                   |Nurse communication - linear mean score              |Not Applicable            |NULL                               |Not Applicable|NULL                   |87               |506                        |NULL                                |21                          |NULL                                 |07-01-2017        |1108 ROSS CLARK CIRCLE DOTHAN, AL 36301 (31.214058, -85.361725)|230723|\n",
      "|06/30/2018      |10001.0    |SOUTHEAST ALABAMA MEDICAL CENTER|1108 ROSS CLARK CIRCLE|DOTHAN|AL   |36301   |HOUSTON    |3347938701  |H_COMP_1_SN_P        |\"Patients who reported that their nurses \"\"Sometimes\"\" or \"\"Never\"\" communicated well\"    |\"Nurses \"\"sometimes\"\" or \"\"never\"\" communicated well\"|Not Applicable            |NULL                               |9             |NULL                   |Not Applicable   |506                        |NULL                                |21                          |NULL                                 |07-01-2017        |1108 ROSS CLARK CIRCLE DOTHAN, AL 36301 (31.214058, -85.361725)|230723|\n",
      "|06/30/2018      |10001.0    |SOUTHEAST ALABAMA MEDICAL CENTER|1108 ROSS CLARK CIRCLE|DOTHAN|AL   |36301   |HOUSTON    |3347938701  |H_COMP_1_STAR_RATING |Nurse communication - star rating                                                         |Nurse communication - star rating                    |2                         |NULL                               |Not Applicable|NULL                   |Not Applicable   |506                        |NULL                                |21                          |NULL                                 |07-01-2017        |1108 ROSS CLARK CIRCLE DOTHAN, AL 36301 (31.214058, -85.361725)|230723|\n",
      "|06/30/2018      |10001.0    |SOUTHEAST ALABAMA MEDICAL CENTER|1108 ROSS CLARK CIRCLE|DOTHAN|AL   |36301   |HOUSTON    |3347938701  |H_COMP_1_U_P         |\"Patients who reported that their nurses \"\"Usually\"\" communicated well\"                   |\"Nurses \"\"usually\"\" communicated well\"               |Not Applicable            |NULL                               |21            |NULL                   |Not Applicable   |506                        |NULL                                |21                          |NULL                                 |07-01-2017        |1108 ROSS CLARK CIRCLE DOTHAN, AL 36301 (31.214058, -85.361725)|230723|\n",
      "+----------------+-----------+--------------------------------+----------------------+------+-----+--------+-----------+------------+---------------------+------------------------------------------------------------------------------------------+-----------------------------------------------------+--------------------------+-----------------------------------+--------------+-----------------------+-----------------+---------------------------+------------------------------------+----------------------------+-------------------------------------+------------------+---------------------------------------------------------------+------+\n",
      "only showing top 10 rows\n",
      "\n"
     ]
    }
   ],
   "source": [
    "#List the details of the patients who has completed the survey on the same date.\n",
    "from pyspark.sql import SparkSession\n",
    "from pyspark.sql.functions import col, count\n",
    "\n",
    "# Initialize Spark session\n",
    "spark = SparkSession.builder.appName(\"SurveySameDate\").getOrCreate()\n",
    "\n",
    "# Load the CSV file\n",
    "file_path = \"Health Care_Patient_survey_source 3.csv\"\n",
    "df = spark.read.option(\"header\", \"true\").option(\"inferSchema\", \"true\").csv(\"C:/Users/prepradi/Downloads/Health Care_Patient_survey_source.csv\")\n",
    "\n",
    "# Clean column names\n",
    "df = df.select([col(c.strip()).alias(c.strip()) for c in df.columns])\n",
    "\n",
    "# Group by 'Measure End Date' and count entries\n",
    "date_counts = df.groupBy(\"Measure End Date\").agg(count(\"*\").alias(\"count\"))\n",
    "\n",
    "# Filter for dates with more than one entry\n",
    "duplicate_dates = date_counts.filter(col(\"count\") > 1)\n",
    "\n",
    "# Join back to original DataFrame to get full details\n",
    "result_df = df.join(duplicate_dates, on=\"Measure End Date\", how=\"inner\")\n",
    "\n",
    "# Show the result\n",
    "result_df.show(10, truncate=False)\n"
   ]
  },
  {
   "cell_type": "code",
   "execution_count": 18,
   "id": "208a7572-8036-4f4e-a8cc-8576f9b98645",
   "metadata": {},
   "outputs": [
    {
     "name": "stdout",
     "output_type": "stream",
     "text": [
      "+-----------------------------------+----------------------------+\n",
      "|Hospital Name                      |Average_Survey_Response_Rate|\n",
      "+-----------------------------------+----------------------------+\n",
      "|REGIONAL GENERAL HOSPITAL WILLISTON|82.0                        |\n",
      "|OAKLEAF SURGICAL HOSPITAL          |71.0                        |\n",
      "|SALINA SURGICAL HOSPITAL           |69.0                        |\n",
      "|MIDWEST SURGICAL HOSPITAL LLC      |69.0                        |\n",
      "|PHYSICIAN'S CARE SURGICAL HOSPITAL |69.0                        |\n",
      "|KANSAS SURGERY & RECOVERY CENTER   |67.0                        |\n",
      "|SURGICAL INSTITUTE OF READING      |67.0                        |\n",
      "|NEBRASKA ORTHOPAEDIC HOSPITAL      |66.0                        |\n",
      "|SURGICAL HOSPITAL AT SOUTHWOODS    |66.0                        |\n",
      "|LINCOLN SURGICAL HOSPITAL          |64.0                        |\n",
      "+-----------------------------------+----------------------------+\n",
      "only showing top 10 rows\n",
      "\n"
     ]
    }
   ],
   "source": [
    "#Top 10 hospitals based on Survey Response Rating \n",
    "from pyspark.sql import SparkSession\n",
    "from pyspark.sql.functions import col, avg\n",
    "\n",
    "\n",
    "spark = SparkSession.builder.appName(\"TopHospitalsBySurveyRating\").getOrCreate()\n",
    "\n",
    "\n",
    "file_path = \"Health Care_Patient_survey_source 3.csv\"\n",
    "df = spark.read.option(\"header\", \"true\").option(\"inferSchema\", \"true\").csv(\"C:/Users/prepradi/Downloads/Health Care_Patient_survey_source.csv\")\n",
    "\n",
    "\n",
    "df = df.select([col(c.strip()).alias(c.strip()) for c in df.columns])\n",
    "\n",
    "\n",
    "df = df.withColumn(\"Survey Response Rate Percent\", col(\"Survey Response Rate Percent\").cast(\"double\"))\n",
    "\n",
    "\n",
    "avg_response = df.groupBy(\"Hospital Name\") \\\n",
    "    .agg(avg(\"Survey Response Rate Percent\").alias(\"Average_Survey_Response_Rate\")) \\\n",
    "    .orderBy(col(\"Average_Survey_Response_Rate\").desc())\n",
    "\n",
    "\n",
    "avg_response.show(10, truncate=False)\n"
   ]
  },
  {
   "cell_type": "code",
   "execution_count": null,
   "id": "33ff71ab-defe-4bfd-9e6b-4fdf6adb8f09",
   "metadata": {},
   "outputs": [],
   "source": []
  }
 ],
 "metadata": {
  "kernelspec": {
   "display_name": "Python 3 (ipykernel)",
   "language": "python",
   "name": "python3"
  },
  "language_info": {
   "codemirror_mode": {
    "name": "ipython",
    "version": 3
   },
   "file_extension": ".py",
   "mimetype": "text/x-python",
   "name": "python",
   "nbconvert_exporter": "python",
   "pygments_lexer": "ipython3",
   "version": "3.11.9"
  }
 },
 "nbformat": 4,
 "nbformat_minor": 5
}
