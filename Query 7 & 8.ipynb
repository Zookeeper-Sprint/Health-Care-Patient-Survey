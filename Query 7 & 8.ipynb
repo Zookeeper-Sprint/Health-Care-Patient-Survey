{
  "cells": [
    {
      "cell_type": "code",
      "source": [
        "!pip install matplotlib-venn"
      ],
      "metadata": {
        "id": "IrakidO189Pa",
        "outputId": "fddcd976-254e-4f1a-ea51-84986eff51e9",
        "colab": {
          "base_uri": "https://localhost:8080/"
        }
      },
      "execution_count": 2,
      "outputs": [
        {
          "output_type": "stream",
          "name": "stdout",
          "text": [
            "Requirement already satisfied: matplotlib-venn in /usr/local/lib/python3.11/dist-packages (1.1.2)\n",
            "Requirement already satisfied: matplotlib in /usr/local/lib/python3.11/dist-packages (from matplotlib-venn) (3.10.0)\n",
            "Requirement already satisfied: numpy in /usr/local/lib/python3.11/dist-packages (from matplotlib-venn) (2.0.2)\n",
            "Requirement already satisfied: scipy in /usr/local/lib/python3.11/dist-packages (from matplotlib-venn) (1.15.3)\n",
            "Requirement already satisfied: contourpy>=1.0.1 in /usr/local/lib/python3.11/dist-packages (from matplotlib->matplotlib-venn) (1.3.2)\n",
            "Requirement already satisfied: cycler>=0.10 in /usr/local/lib/python3.11/dist-packages (from matplotlib->matplotlib-venn) (0.12.1)\n",
            "Requirement already satisfied: fonttools>=4.22.0 in /usr/local/lib/python3.11/dist-packages (from matplotlib->matplotlib-venn) (4.58.4)\n",
            "Requirement already satisfied: kiwisolver>=1.3.1 in /usr/local/lib/python3.11/dist-packages (from matplotlib->matplotlib-venn) (1.4.8)\n",
            "Requirement already satisfied: packaging>=20.0 in /usr/local/lib/python3.11/dist-packages (from matplotlib->matplotlib-venn) (24.2)\n",
            "Requirement already satisfied: pillow>=8 in /usr/local/lib/python3.11/dist-packages (from matplotlib->matplotlib-venn) (11.2.1)\n",
            "Requirement already satisfied: pyparsing>=2.3.1 in /usr/local/lib/python3.11/dist-packages (from matplotlib->matplotlib-venn) (3.2.3)\n",
            "Requirement already satisfied: python-dateutil>=2.7 in /usr/local/lib/python3.11/dist-packages (from matplotlib->matplotlib-venn) (2.9.0.post0)\n",
            "Requirement already satisfied: six>=1.5 in /usr/local/lib/python3.11/dist-packages (from python-dateutil>=2.7->matplotlib->matplotlib-venn) (1.17.0)\n"
          ]
        }
      ]
    },
    {
      "cell_type": "code",
      "source": [
        "!apt-get -qq install -y libfluidsynth1"
      ],
      "metadata": {
        "id": "ZRbOgHHv8916",
        "outputId": "30b0c7bc-a481-4167-c035-50bfdf0acb6a",
        "colab": {
          "base_uri": "https://localhost:8080/"
        }
      },
      "execution_count": 3,
      "outputs": [
        {
          "output_type": "stream",
          "name": "stdout",
          "text": [
            "E: Package 'libfluidsynth1' has no installation candidate\n"
          ]
        }
      ]
    },
    {
      "cell_type": "code",
      "source": [
        "!apt-get -qq install -y libarchive-dev && pip install -U libarchive\n",
        "import libarchive"
      ],
      "metadata": {
        "id": "iBSTocdW9Xy3",
        "outputId": "52be449e-d220-4562-cd12-5e6e760c6104",
        "colab": {
          "base_uri": "https://localhost:8080/"
        }
      },
      "execution_count": 4,
      "outputs": [
        {
          "output_type": "stream",
          "name": "stdout",
          "text": [
            "Selecting previously unselected package libarchive-dev:amd64.\n",
            "(Reading database ... 126319 files and directories currently installed.)\n",
            "Preparing to unpack .../libarchive-dev_3.6.0-1ubuntu1.4_amd64.deb ...\n",
            "Unpacking libarchive-dev:amd64 (3.6.0-1ubuntu1.4) ...\n",
            "Setting up libarchive-dev:amd64 (3.6.0-1ubuntu1.4) ...\n",
            "Processing triggers for man-db (2.10.2-1) ...\n",
            "Collecting libarchive\n",
            "  Downloading libarchive-0.4.7.tar.gz (23 kB)\n",
            "  Preparing metadata (setup.py) ... \u001b[?25l\u001b[?25hdone\n",
            "Collecting nose (from libarchive)\n",
            "  Downloading nose-1.3.7-py3-none-any.whl.metadata (1.7 kB)\n",
            "Downloading nose-1.3.7-py3-none-any.whl (154 kB)\n",
            "\u001b[2K   \u001b[90m━━━━━━━━━━━━━━━━━━━━━━━━━━━━━━━━━━━━━━━━\u001b[0m \u001b[32m154.7/154.7 kB\u001b[0m \u001b[31m12.7 MB/s\u001b[0m eta \u001b[36m0:00:00\u001b[0m\n",
            "\u001b[?25hBuilding wheels for collected packages: libarchive\n",
            "  Building wheel for libarchive (setup.py) ... \u001b[?25l\u001b[?25hdone\n",
            "  Created wheel for libarchive: filename=libarchive-0.4.7-py3-none-any.whl size=31629 sha256=cea850ea1e88eaf0cd4bc5ac13cc6dba6d0b53cb247dc86ad11b2d536288f4e0\n",
            "  Stored in directory: /root/.cache/pip/wheels/32/98/bd/4893d6923dd027f455b250367d402bfd69a6f4416581df46db\n",
            "Successfully built libarchive\n",
            "Installing collected packages: nose, libarchive\n",
            "Successfully installed libarchive-0.4.7 nose-1.3.7\n"
          ]
        }
      ]
    },
    {
      "cell_type": "code",
      "source": [
        "!apt-get -qq install -y graphviz && pip install pydot\n",
        "import pydot"
      ],
      "metadata": {
        "id": "yRrh62fu9aNy",
        "outputId": "41d12e73-ef6e-4702-a59b-c4ff0d837f55",
        "colab": {
          "base_uri": "https://localhost:8080/"
        }
      },
      "execution_count": 5,
      "outputs": [
        {
          "output_type": "stream",
          "name": "stdout",
          "text": [
            "Requirement already satisfied: pydot in /usr/local/lib/python3.11/dist-packages (3.0.4)\n",
            "Requirement already satisfied: pyparsing>=3.0.9 in /usr/local/lib/python3.11/dist-packages (from pydot) (3.2.3)\n"
          ]
        }
      ]
    },
    {
      "cell_type": "code",
      "source": [
        "!pip install cartopy\n",
        "import cartopy"
      ],
      "metadata": {
        "id": "8Ah9HGOZ9cDh",
        "outputId": "8f57ede8-3ba4-49a5-8bc0-53b9968e58f7",
        "colab": {
          "base_uri": "https://localhost:8080/"
        }
      },
      "execution_count": 6,
      "outputs": [
        {
          "output_type": "stream",
          "name": "stdout",
          "text": [
            "Collecting cartopy\n",
            "  Downloading Cartopy-0.24.1-cp311-cp311-manylinux_2_17_x86_64.manylinux2014_x86_64.whl.metadata (7.9 kB)\n",
            "Requirement already satisfied: numpy>=1.23 in /usr/local/lib/python3.11/dist-packages (from cartopy) (2.0.2)\n",
            "Requirement already satisfied: matplotlib>=3.6 in /usr/local/lib/python3.11/dist-packages (from cartopy) (3.10.0)\n",
            "Requirement already satisfied: shapely>=1.8 in /usr/local/lib/python3.11/dist-packages (from cartopy) (2.1.1)\n",
            "Requirement already satisfied: packaging>=21 in /usr/local/lib/python3.11/dist-packages (from cartopy) (24.2)\n",
            "Requirement already satisfied: pyshp>=2.3 in /usr/local/lib/python3.11/dist-packages (from cartopy) (2.3.1)\n",
            "Requirement already satisfied: pyproj>=3.3.1 in /usr/local/lib/python3.11/dist-packages (from cartopy) (3.7.1)\n",
            "Requirement already satisfied: contourpy>=1.0.1 in /usr/local/lib/python3.11/dist-packages (from matplotlib>=3.6->cartopy) (1.3.2)\n",
            "Requirement already satisfied: cycler>=0.10 in /usr/local/lib/python3.11/dist-packages (from matplotlib>=3.6->cartopy) (0.12.1)\n",
            "Requirement already satisfied: fonttools>=4.22.0 in /usr/local/lib/python3.11/dist-packages (from matplotlib>=3.6->cartopy) (4.58.4)\n",
            "Requirement already satisfied: kiwisolver>=1.3.1 in /usr/local/lib/python3.11/dist-packages (from matplotlib>=3.6->cartopy) (1.4.8)\n",
            "Requirement already satisfied: pillow>=8 in /usr/local/lib/python3.11/dist-packages (from matplotlib>=3.6->cartopy) (11.2.1)\n",
            "Requirement already satisfied: pyparsing>=2.3.1 in /usr/local/lib/python3.11/dist-packages (from matplotlib>=3.6->cartopy) (3.2.3)\n",
            "Requirement already satisfied: python-dateutil>=2.7 in /usr/local/lib/python3.11/dist-packages (from matplotlib>=3.6->cartopy) (2.9.0.post0)\n",
            "Requirement already satisfied: certifi in /usr/local/lib/python3.11/dist-packages (from pyproj>=3.3.1->cartopy) (2025.6.15)\n",
            "Requirement already satisfied: six>=1.5 in /usr/local/lib/python3.11/dist-packages (from python-dateutil>=2.7->matplotlib>=3.6->cartopy) (1.17.0)\n",
            "Downloading Cartopy-0.24.1-cp311-cp311-manylinux_2_17_x86_64.manylinux2014_x86_64.whl (11.7 MB)\n",
            "\u001b[2K   \u001b[90m━━━━━━━━━━━━━━━━━━━━━━━━━━━━━━━━━━━━━━━━\u001b[0m \u001b[32m11.7/11.7 MB\u001b[0m \u001b[31m109.1 MB/s\u001b[0m eta \u001b[36m0:00:00\u001b[0m\n",
            "\u001b[?25hInstalling collected packages: cartopy\n",
            "Successfully installed cartopy-0.24.1\n"
          ]
        }
      ]
    },
    {
      "cell_type": "code",
      "source": [
        "!pip install findspark\n",
        "import findspark\n",
        "findspark.init()\n",
        "\n",
        "from pyspark.sql import SparkSession\n",
        "\n",
        "spark = SparkSession.builder \\\n",
        "    .appName(\"MySparkApp\") \\\n",
        "    .getOrCreate()\n",
        "\n",
        "spark"
      ],
      "metadata": {
        "id": "aq4heXIS9eBp",
        "outputId": "86d2f650-11f9-4ac2-ce5a-8b7c66de532d",
        "colab": {
          "base_uri": "https://localhost:8080/",
          "height": 237
        }
      },
      "execution_count": 9,
      "outputs": [
        {
          "output_type": "stream",
          "name": "stdout",
          "text": [
            "Requirement already satisfied: findspark in /usr/local/lib/python3.11/dist-packages (2.0.1)\n"
          ]
        },
        {
          "output_type": "execute_result",
          "data": {
            "text/plain": [
              "<pyspark.sql.session.SparkSession at 0x78e7dab41110>"
            ],
            "text/html": [
              "\n",
              "            <div>\n",
              "                <p><b>SparkSession - in-memory</b></p>\n",
              "                \n",
              "        <div>\n",
              "            <p><b>SparkContext</b></p>\n",
              "\n",
              "            <p><a href=\"http://7a173b207a28:4040\">Spark UI</a></p>\n",
              "\n",
              "            <dl>\n",
              "              <dt>Version</dt>\n",
              "                <dd><code>v3.5.1</code></dd>\n",
              "              <dt>Master</dt>\n",
              "                <dd><code>local[*]</code></dd>\n",
              "              <dt>AppName</dt>\n",
              "                <dd><code>MySparkApp</code></dd>\n",
              "            </dl>\n",
              "        </div>\n",
              "        \n",
              "            </div>\n",
              "        "
            ]
          },
          "metadata": {},
          "execution_count": 9
        }
      ]
    },
    {
      "cell_type": "code",
      "source": [
        "df = spark.read.option(\"header\", \"true\").option(\"inferSchema\", \"true\").csv(\"/content/Health Care_Patient_survey_source.csv\")"
      ],
      "metadata": {
        "id": "6uRECSw89iMu"
      },
      "execution_count": 16,
      "outputs": []
    },
    {
      "cell_type": "code",
      "source": [
        "#Implement RDD\n",
        "rdd = df.rdd"
      ],
      "metadata": {
        "id": "IxLKwrAy99HB"
      },
      "execution_count": 17,
      "outputs": []
    },
    {
      "cell_type": "code",
      "source": [
        "#Implement optimizations (CACHE,PARTITIONS) on RDD\n",
        "rdd.cache()\n",
        "rdd.repartition(10)"
      ],
      "metadata": {
        "id": "RxFi0axy-4Zs",
        "outputId": "f71488b3-4169-4e79-f0f9-2b92b7e9f06a",
        "colab": {
          "base_uri": "https://localhost:8080/"
        }
      },
      "execution_count": 18,
      "outputs": [
        {
          "output_type": "execute_result",
          "data": {
            "text/plain": [
              "MapPartitionsRDD[19] at coalesce at NativeMethodAccessorImpl.java:0"
            ]
          },
          "metadata": {},
          "execution_count": 18
        }
      ]
    },
    {
      "cell_type": "code",
      "source": [
        "# Display rdd content in table form\n",
        "df.show()\n",
        "df.printSchema()"
      ],
      "metadata": {
        "id": "NmxI5ArC_ZM0",
        "outputId": "25b654d4-d551-4d0b-fbc3-71098e92e24d",
        "colab": {
          "base_uri": "https://localhost:8080/"
        }
      },
      "execution_count": 22,
      "outputs": [
        {
          "output_type": "stream",
          "name": "stdout",
          "text": [
            "+-----------+--------------------+--------------------+------+-----+--------+-----------+------------+--------------------+--------------------+--------------------+--------------------------+-----------------------------------+--------------+-----------------------+-----------------+---------------------------+------------------------------------+----------------------------+-------------------------------------+------------------+----------------+--------------------+\n",
            "|Provider ID|       Hospital Name|             Address|  City|State|ZIP Code|County Name|Phone Number|          Measure ID|            Question|  Answer Description|Patient Survey Star Rating|Patient Survey Star Rating Footnote|Answer Percent|Answer Percent Footnote|Linear Mean Value|Number of Completed Surveys|Number of Completed Surveys Footnote|Survey Response Rate Percent|Survey Response Rate Percent Footnote|Measure Start Date|Measure End Date|            Location|\n",
            "+-----------+--------------------+--------------------+------+-----+--------+-----------+------------+--------------------+--------------------+--------------------+--------------------------+-----------------------------------+--------------+-----------------------+-----------------+---------------------------+------------------------------------+----------------------------+-------------------------------------+------------------+----------------+--------------------+\n",
            "|      10001|SOUTHEAST ALABAMA...|1108 ROSS CLARK C...|DOTHAN|   AL|   36301|    HOUSTON|  3347938701|     H_CLEAN_HSP_A_P|\"Patients who rep...|\"Room was \"\"alway...|            Not Applicable|                               NULL|            63|                   NULL|   Not Applicable|                        506|                                NULL|                          21|                                 NULL|        07-01-2017|      06/30/2018|1108 ROSS CLARK C...|\n",
            "|      10001|SOUTHEAST ALABAMA...|1108 ROSS CLARK C...|DOTHAN|   AL|   36301|    HOUSTON|  3347938701|    H_CLEAN_HSP_SN_P|\"Patients who rep...|\"Room was \"\"somet...|            Not Applicable|                               NULL|            13|                   NULL|   Not Applicable|                        506|                                NULL|                          21|                                 NULL|        07-01-2017|      06/30/2018|1108 ROSS CLARK C...|\n",
            "|      10001|SOUTHEAST ALABAMA...|1108 ROSS CLARK C...|DOTHAN|   AL|   36301|    HOUSTON|  3347938701|     H_CLEAN_HSP_U_P|\"Patients who rep...|\"Room was \"\"usual...|            Not Applicable|                               NULL|            24|                   NULL|   Not Applicable|                        506|                                NULL|                          21|                                 NULL|        07-01-2017|      06/30/2018|1108 ROSS CLARK C...|\n",
            "|      10001|SOUTHEAST ALABAMA...|1108 ROSS CLARK C...|DOTHAN|   AL|   36301|    HOUSTON|  3347938701|H_CLEAN_LINEAR_SCORE|Cleanliness - lin...|Cleanliness - lin...|            Not Applicable|                               NULL|Not Applicable|                   NULL|               83|                        506|                                NULL|                          21|                                 NULL|        07-01-2017|      06/30/2018|1108 ROSS CLARK C...|\n",
            "|      10001|SOUTHEAST ALABAMA...|1108 ROSS CLARK C...|DOTHAN|   AL|   36301|    HOUSTON|  3347938701| H_CLEAN_STAR_RATING|Cleanliness - sta...|Cleanliness - sta...|                         2|                               NULL|Not Applicable|                   NULL|   Not Applicable|                        506|                                NULL|                          21|                                 NULL|        07-01-2017|      06/30/2018|1108 ROSS CLARK C...|\n",
            "|      10001|SOUTHEAST ALABAMA...|1108 ROSS CLARK C...|DOTHAN|   AL|   36301|    HOUSTON|  3347938701|        H_COMP_1_A_P|\"Patients who rep...|\"Nurses \"\"always\"...|            Not Applicable|                               NULL|            70|                   NULL|   Not Applicable|                        506|                                NULL|                          21|                                 NULL|        07-01-2017|      06/30/2018|1108 ROSS CLARK C...|\n",
            "|      10001|SOUTHEAST ALABAMA...|1108 ROSS CLARK C...|DOTHAN|   AL|   36301|    HOUSTON|  3347938701|H_COMP_1_LINEAR_S...|Nurse communicati...|Nurse communicati...|            Not Applicable|                               NULL|Not Applicable|                   NULL|               87|                        506|                                NULL|                          21|                                 NULL|        07-01-2017|      06/30/2018|1108 ROSS CLARK C...|\n",
            "|      10001|SOUTHEAST ALABAMA...|1108 ROSS CLARK C...|DOTHAN|   AL|   36301|    HOUSTON|  3347938701|       H_COMP_1_SN_P|\"Patients who rep...|\"Nurses \"\"sometim...|            Not Applicable|                               NULL|             9|                   NULL|   Not Applicable|                        506|                                NULL|                          21|                                 NULL|        07-01-2017|      06/30/2018|1108 ROSS CLARK C...|\n",
            "|      10001|SOUTHEAST ALABAMA...|1108 ROSS CLARK C...|DOTHAN|   AL|   36301|    HOUSTON|  3347938701|H_COMP_1_STAR_RATING|Nurse communicati...|Nurse communicati...|                         2|                               NULL|Not Applicable|                   NULL|   Not Applicable|                        506|                                NULL|                          21|                                 NULL|        07-01-2017|      06/30/2018|1108 ROSS CLARK C...|\n",
            "|      10001|SOUTHEAST ALABAMA...|1108 ROSS CLARK C...|DOTHAN|   AL|   36301|    HOUSTON|  3347938701|        H_COMP_1_U_P|\"Patients who rep...|\"Nurses \"\"usually...|            Not Applicable|                               NULL|            21|                   NULL|   Not Applicable|                        506|                                NULL|                          21|                                 NULL|        07-01-2017|      06/30/2018|1108 ROSS CLARK C...|\n",
            "|      10001|SOUTHEAST ALABAMA...|1108 ROSS CLARK C...|DOTHAN|   AL|   36301|    HOUSTON|  3347938701|        H_COMP_2_A_P|\"Patients who rep...|\"Doctors \"\"always...|            Not Applicable|                               NULL|            78|                   NULL|   Not Applicable|                        506|                                NULL|                          21|                                 NULL|        07-01-2017|      06/30/2018|1108 ROSS CLARK C...|\n",
            "|      10001|SOUTHEAST ALABAMA...|1108 ROSS CLARK C...|DOTHAN|   AL|   36301|    HOUSTON|  3347938701|H_COMP_2_LINEAR_S...|Doctor communicat...|Doctor communicat...|            Not Applicable|                               NULL|Not Applicable|                   NULL|               90|                        506|                                NULL|                          21|                                 NULL|        07-01-2017|      06/30/2018|1108 ROSS CLARK C...|\n",
            "|      10001|SOUTHEAST ALABAMA...|1108 ROSS CLARK C...|DOTHAN|   AL|   36301|    HOUSTON|  3347938701|       H_COMP_2_SN_P|\"Patients who rep...|\"Doctors \"\"someti...|            Not Applicable|                               NULL|             7|                   NULL|   Not Applicable|                        506|                                NULL|                          21|                                 NULL|        07-01-2017|      06/30/2018|1108 ROSS CLARK C...|\n",
            "|      10001|SOUTHEAST ALABAMA...|1108 ROSS CLARK C...|DOTHAN|   AL|   36301|    HOUSTON|  3347938701|H_COMP_2_STAR_RATING|Doctor communicat...|Doctor communicat...|                         3|                               NULL|Not Applicable|                   NULL|   Not Applicable|                        506|                                NULL|                          21|                                 NULL|        07-01-2017|      06/30/2018|1108 ROSS CLARK C...|\n",
            "|      10001|SOUTHEAST ALABAMA...|1108 ROSS CLARK C...|DOTHAN|   AL|   36301|    HOUSTON|  3347938701|        H_COMP_2_U_P|\"Patients who rep...|\"Doctors \"\"usuall...|            Not Applicable|                               NULL|            15|                   NULL|   Not Applicable|                        506|                                NULL|                          21|                                 NULL|        07-01-2017|      06/30/2018|1108 ROSS CLARK C...|\n",
            "|      10001|SOUTHEAST ALABAMA...|1108 ROSS CLARK C...|DOTHAN|   AL|   36301|    HOUSTON|  3347938701|        H_COMP_3_A_P|\"Patients who rep...|\"Patients \"\"alway...|            Not Applicable|                               NULL|            47|                   NULL|   Not Applicable|                        506|                                NULL|                          21|                                 NULL|        07-01-2017|      06/30/2018|1108 ROSS CLARK C...|\n",
            "|      10001|SOUTHEAST ALABAMA...|1108 ROSS CLARK C...|DOTHAN|   AL|   36301|    HOUSTON|  3347938701|H_COMP_3_LINEAR_S...|Staff responsiven...|Staff responsiven...|            Not Applicable|                               NULL|Not Applicable|                   NULL|               75|                        506|                                NULL|                          21|                                 NULL|        07-01-2017|      06/30/2018|1108 ROSS CLARK C...|\n",
            "|      10001|SOUTHEAST ALABAMA...|1108 ROSS CLARK C...|DOTHAN|   AL|   36301|    HOUSTON|  3347938701|       H_COMP_3_SN_P|\"Patients who rep...|\"Patients \"\"somet...|            Not Applicable|                               NULL|            19|                   NULL|   Not Applicable|                        506|                                NULL|                          21|                                 NULL|        07-01-2017|      06/30/2018|1108 ROSS CLARK C...|\n",
            "|      10001|SOUTHEAST ALABAMA...|1108 ROSS CLARK C...|DOTHAN|   AL|   36301|    HOUSTON|  3347938701|H_COMP_3_STAR_RATING|Staff responsiven...|Staff responsiven...|                         1|                               NULL|Not Applicable|                   NULL|   Not Applicable|                        506|                                NULL|                          21|                                 NULL|        07-01-2017|      06/30/2018|1108 ROSS CLARK C...|\n",
            "|      10001|SOUTHEAST ALABAMA...|1108 ROSS CLARK C...|DOTHAN|   AL|   36301|    HOUSTON|  3347938701|        H_COMP_3_U_P|\"Patients who rep...|\"Patients \"\"usual...|            Not Applicable|                               NULL|            34|                   NULL|   Not Applicable|                        506|                                NULL|                          21|                                 NULL|        07-01-2017|      06/30/2018|1108 ROSS CLARK C...|\n",
            "+-----------+--------------------+--------------------+------+-----+--------+-----------+------------+--------------------+--------------------+--------------------+--------------------------+-----------------------------------+--------------+-----------------------+-----------------+---------------------------+------------------------------------+----------------------------+-------------------------------------+------------------+----------------+--------------------+\n",
            "only showing top 20 rows\n",
            "\n",
            "root\n",
            " |-- Provider ID: integer (nullable = true)\n",
            " |-- Hospital Name: string (nullable = true)\n",
            " |-- Address: string (nullable = true)\n",
            " |-- City: string (nullable = true)\n",
            " |-- State: string (nullable = true)\n",
            " |-- ZIP Code: integer (nullable = true)\n",
            " |-- County Name: string (nullable = true)\n",
            " |-- Phone Number: long (nullable = true)\n",
            " |-- Measure ID: string (nullable = true)\n",
            " |-- Question: string (nullable = true)\n",
            " |-- Answer Description: string (nullable = true)\n",
            " |-- Patient Survey Star Rating: string (nullable = true)\n",
            " |-- Patient Survey Star Rating Footnote: string (nullable = true)\n",
            " |-- Answer Percent: string (nullable = true)\n",
            " |-- Answer Percent Footnote: string (nullable = true)\n",
            " |-- Linear Mean Value: string (nullable = true)\n",
            " |-- Number of Completed Surveys: string (nullable = true)\n",
            " |-- Number of Completed Surveys Footnote: string (nullable = true)\n",
            " |-- Survey Response Rate Percent: string (nullable = true)\n",
            " |-- Survey Response Rate Percent Footnote: string (nullable = true)\n",
            " |-- Measure Start Date: string (nullable = true)\n",
            " |-- Measure End Date: string (nullable = true)\n",
            " |-- Location: string (nullable = true)\n",
            "\n"
          ]
        }
      ]
    },
    {
      "cell_type": "code",
      "source": [
        "# TASK 7 - List the hospitals which are in same city\n",
        "from pyspark.sql.functions import collect_set, size\n",
        "\n",
        "same_city_hospitals = df.groupBy(\"City\") \\\n",
        "    .agg(collect_set(\"Hospital Name\").alias(\"Hospitals\")) \\\n",
        "    .filter(size(\"Hospitals\") > 1).cache()\n",
        "\n",
        "same_city_hospitals.write.mode(\"overwrite\").partitionBy(\"City\").parquet(\"same_city_hospitals\")\n",
        "\n",
        "same_city_hospitals.show(truncate=False)\n"
      ],
      "metadata": {
        "id": "sTIs1qeX--__",
        "outputId": "9d0015a0-6e23-4dc7-9fd0-cb2101ff38a1",
        "colab": {
          "base_uri": "https://localhost:8080/"
        }
      },
      "execution_count": 30,
      "outputs": [
        {
          "output_type": "stream",
          "name": "stdout",
          "text": [
            "+-------------+---------------------------------------------------------------------------------------------------------------------------------------------------------------------------------------------------------------------------------------------------------------------------------------------------------+\n",
            "|City         |Hospitals                                                                                                                                                                                                                                                                                                |\n",
            "+-------------+---------------------------------------------------------------------------------------------------------------------------------------------------------------------------------------------------------------------------------------------------------------------------------------------------------+\n",
            "|CONWAY       |[CONWAY REGIONAL MEDICAL CENTER, BAPTIST HEALTH MEDICAL CENTER-CONWAY]                                                                                                                                                                                                                                   |\n",
            "|COTTONWOOD   |[VERDE VALLEY MEDICAL CENTER, ST MARY'S HOSPITAL]                                                                                                                                                                                                                                                        |\n",
            "|YUMA         |[YUMA REGIONAL MEDICAL CENTER, YUMA DISTRICT HOSPITAL]                                                                                                                                                                                                                                                   |\n",
            "|PLANTATION   |[PLANTATION GENERAL HOSPITAL, WESTSIDE REGIONAL MEDICAL CENTER]                                                                                                                                                                                                                                          |\n",
            "|PARKER       |[PARKER ADVENTIST HOSPITAL, LA PAZ REGIONAL HOSPITAL, PARKER INDIAN HEALTH CENTER]                                                                                                                                                                                                                       |\n",
            "|CORAL GABLES |[CORAL GABLES HOSPITAL, DOCTORS HOSPITAL]                                                                                                                                                                                                                                                                |\n",
            "|ORLANDO      |[FLORIDA HOSPITAL, NEMOURS CHILDREN'S HOSPITAL, ORLANDO HEALTH ORLANDO REGIONAL MEDICAL CENTER]                                                                                                                                                                                                          |\n",
            "|SAVANNAH     |[CANDLER HOSPITAL, MEMORIAL HEALTH UNIVERSITY MEDICAL CENTER, ST JOSEPH'S HOSPITAL - SAVANNAH]                                                                                                                                                                                                           |\n",
            "|MOUNTAIN HOME|[ST LUKE'S ELMORE MEDICAL CENTER, BAXTER REGIONAL MEDICAL CENTER]                                                                                                                                                                                                                                        |\n",
            "|MONTEREY PARK|[MONTEREY PARK HOSPITAL, GARFIELD MEDICAL CENTER]                                                                                                                                                                                                                                                        |\n",
            "|ATLANTA      |[PIEDMONT HOSPITAL, CHILDREN'S HEALTHCARE OF ATLANTA AT EGLESTON, CHILDREN'S HEALTHCARE OF ATLANTA AT SCOTTISH RITE, GRADY MEMORIAL HOSPITAL, EMORY UNIVERSITY HOSPITAL MIDTOWN, EMORY UNIVERSITY HOSPITAL, WELLSTAR ATLANTA MEDICAL CENTER, NORTHSIDE HOSPITAL, SAINT JOSEPH'S HOSPITAL OF ATLANTA, INC]|\n",
            "|LA JOLLA     |[SCRIPPS GREEN HOSPITAL, SCRIPPS MEMORIAL HOSPITAL LA JOLLA]                                                                                                                                                                                                                                             |\n",
            "|MIAMI        |[NORTH SHORE MEDICAL CENTER, BAPTIST HOSPITAL OF MIAMI, WEST KENDALL BAPTIST HOSPITAL, NICKLAUS CHILDREN'S HOSPITAL, DOUGLAS GARDENS HOSPITAL, KENDALL REGIONAL MEDICAL CENTER, WESTCHESTER GENERAL HOSPITAL, JACKSON MEMORIAL HOSPITAL, MIAMI MEDICAL CENTER, THE]                                      |\n",
            "|FREMONT      |[WASHINGTON HOSPITAL, KAISER FOUNDATION HOSPITAL - FREMONT]                                                                                                                                                                                                                                              |\n",
            "|WATERBURY    |[SAINT MARY'S HOSPITAL, WATERBURY HOSPITAL]                                                                                                                                                                                                                                                              |\n",
            "|SANTA BARBARA|[SANTA BARBARA COTTAGE HOSPITAL, GOLETA VALLEY COTTAGE HOSPITAL]                                                                                                                                                                                                                                         |\n",
            "|MOBILE       |[UNIVERSITY OF S A CHILDREN'S AND WOMEN'S HOS, SPRINGHILL MEMORIAL HOSPITAL, UNIVERSITY OF SOUTH ALABAMA MEDICAL CENTER, MOBILE INFIRMARY MEDICAL CENTER, PROVIDENCE HOSPITAL]                                                                                                                           |\n",
            "|STERLING     |[CGH MEDICAL CENTER, STERLING REGIONAL MEDCENTER]                                                                                                                                                                                                                                                        |\n",
            "|OAKLAND      |[KAISER FOUNDATION HOSPITAL - OAKLAND/RICHMOND, ALTA BATES SUMMIT MEDICAL CENTER, CHILDREN'S HOSPITAL & RESEARCH CENTER OAKLAND, HIGHLAND HOSPITAL]                                                                                                                                                      |\n",
            "|SANTA ROSA   |[SANTA ROSA MEMORIAL HOSPITAL, SUTTER SANTA ROSA REGIONAL HOSPITAL, KAISER FOUNDATION HOSPITAL-SANTA ROSA]                                                                                                                                                                                               |\n",
            "+-------------+---------------------------------------------------------------------------------------------------------------------------------------------------------------------------------------------------------------------------------------------------------------------------------------------------------+\n",
            "only showing top 20 rows\n",
            "\n"
          ]
        }
      ]
    },
    {
      "cell_type": "code",
      "source": [
        "# TASK 8 - Total Survey Response rate by all the Hospitals.\n",
        "from pyspark.sql.functions import col, sum as _sum\n",
        "\n",
        "df_cleaned = df.withColumn(\n",
        "    \"Survey Response Rsate Percent\",\n",
        "    col(\"Survey Response Rate Percent\").cast(\"double\")\n",
        ")\n",
        "\n",
        "total_response = df_cleaned.agg(\n",
        "    _sum(\"Survey Response Rate Percent\").alias(\"Total Survey Response Rate\")\n",
        ")\n",
        "\n",
        "total_response.show()"
      ],
      "metadata": {
        "id": "awhVxDX__ozM",
        "outputId": "363feea8-e60e-49dc-e0df-da2d1d4bbc30",
        "colab": {
          "base_uri": "https://localhost:8080/"
        }
      },
      "execution_count": 29,
      "outputs": [
        {
          "output_type": "stream",
          "name": "stdout",
          "text": [
            "+--------------------------+\n",
            "|Total Survey Response Rate|\n",
            "+--------------------------+\n",
            "|                 1214478.0|\n",
            "+--------------------------+\n",
            "\n"
          ]
        }
      ]
    },
    {
      "cell_type": "code",
      "source": [],
      "metadata": {
        "id": "hgNhsNTNBTUk"
      },
      "execution_count": null,
      "outputs": []
    }
  ],
  "metadata": {
    "colab": {
      "name": "Welcome To Colab",
      "provenance": []
    },
    "kernelspec": {
      "display_name": "Python 3",
      "name": "python3"
    }
  },
  "nbformat": 4,
  "nbformat_minor": 0
}